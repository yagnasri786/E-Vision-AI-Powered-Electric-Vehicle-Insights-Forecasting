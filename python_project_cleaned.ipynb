{
 "cells": [
  {
   "cell_type": "code",
   "execution_count": null,
   "id": "4f2fc42a-2733-46ed-9778-4f3c9afd2b7b",
   "metadata": {},
   "outputs": [],
   "source": [
    "import pandas as pd\n",
    "import plotly.express as px\n",
    "import seaborn as sns\n",
    "import matplotlib.pyplot as plt\n",
    "import numpy as np\n",
    "from wordcloud import WordCloud"
   ]
  },
  {
   "cell_type": "code",
   "execution_count": null,
   "id": "6fd4064f-506b-4e63-869a-310273cc1e59",
   "metadata": {},
   "outputs": [],
   "source": [
    "def load_data():\n",
    "    path = r\"C:\\Users\\asus\\Downloads\\Electric_Vehicle_Population_Data (3) (1).csv\"\n",
    "    return pd.read_csv(path)\n",
    "\n",
    "df = load_data()\n",
    "\n",
    "print(df.head())\n"
   ]
  },
  {
   "cell_type": "code",
   "execution_count": null,
   "id": "c1cc1c6b-74da-4131-a3d6-7be97240d005",
   "metadata": {},
   "outputs": [],
   "source": [
    "df = load_data()\n",
    "df['Model Year'] = pd.to_numeric(df['Model Year'], errors='coerce')\n",
    "df['Electric Range'] = pd.to_numeric(df['Electric Range'], errors='coerce')\n",
    "df['County'] = df['County'].fillna(\"Unknown\")\n",
    "df['Make'] = df['Make'].fillna(\"Unknown\")"
   ]
  },
  {
   "cell_type": "code",
   "execution_count": null,
   "id": "f7f5bb13-0d0d-46cf-9c25-9e0bfa01016d",
   "metadata": {},
   "outputs": [],
   "source": [
    "total_evs = df.shape[0]\n",
    "unique_brands = df['Make'].nunique()\n",
    "avg_range = df['Electric Range'].mean()\n",
    "\n",
    "print(f\"🔢 Key Metrics\")\n",
    "print(f\"Total EVs: {total_evs:,}\")\n",
    "print(f\"Unique Brands: {unique_brands}\")\n",
    "print(f\"Avg. Range (mi): {avg_range:.1f}\")\n",
    "print(\"\\n\" + \"-\"*50)"
   ]
  },
  {
   "cell_type": "code",
   "execution_count": null,
   "id": "4161e709-f0f4-418d-9c41-492e134a2c2e",
   "metadata": {},
   "outputs": [],
   "source": [
    "# Chart 1 - EV Growth Over Time\n",
    "ev_growth = df.groupby('Model Year').size().reset_index(name='EV Count')\n",
    "fig1 = px.line(ev_growth, x='Model Year', y='EV Count', markers=True)\n",
    "fig1.show()"
   ]
  },
  {
   "cell_type": "code",
   "execution_count": null,
   "id": "94a8e7cf-3d7f-4a92-8894-72033fe76373",
   "metadata": {},
   "outputs": [],
   "source": [
    "# Chart 2 - Word Cloud\n",
    "print(\"💬 2. Simulated Word Cloud of EV Brands\")\n",
    "text = ' '.join(df['Make'].dropna().astype(str))\n",
    "wordcloud = WordCloud(width=800, height=400, background_color='white').generate(text)\n",
    "plt.figure(figsize=(10, 4))\n",
    "plt.imshow(wordcloud, interpolation='bilinear')\n",
    "plt.axis('off')\n",
    "plt.show()"
   ]
  },
  {
   "cell_type": "code",
   "execution_count": null,
   "id": "d688cd90-51a1-40a3-aed5-22e2d557ff3f",
   "metadata": {},
   "outputs": [],
   "source": [
    "print(\"⚡ 3. Electric Range Distribution by Top Brands\")\n",
    "top_brands = df['Make'].value_counts().nlargest(5).index\n",
    "fig3, ax3 = plt.subplots()\n",
    "for brand in top_brands:\n",
    "    sns.kdeplot(data=df[df['Make'] == brand]['Electric Range'], label=brand, fill=True, ax=ax3)\n",
    "ax3.set_xlabel(\"Electric Range (mi)\")\n",
    "ax3.set_title(\"Range Distribution (Top 5 Brands)\")\n",
    "ax3.legend()\n",
    "plt.show()"
   ]
  },
  {
   "cell_type": "code",
   "execution_count": null,
   "id": "2e93b181-6473-4112-a528-e5149aa5e0ab",
   "metadata": {},
   "outputs": [],
   "source": [
    "# Chart 4 - Forecasting EV Growth (Linear)\n",
    "growth_data = ev_growth.copy()\n",
    "growth_data['Forecast'] = np.poly1d(np.polyfit(growth_data['Model Year'], growth_data['EV Count'], 1))(growth_data['Model Year'])\n",
    "fig4 = px.line(growth_data, x='Model Year', y=['EV Count', 'Forecast'], markers=True)\n",
    "fig4.show()"
   ]
  },
  {
   "cell_type": "code",
   "execution_count": null,
   "id": "9e7fc554-a710-445d-95f1-311f9224d50f",
   "metadata": {},
   "outputs": [],
   "source": [
    "# Chart 5 - Charging Infra vs EVs (Simulated)\n",
    "print(\"🔌 5. Correlation: EV Count vs Charging Stations (Simulated)\")\n",
    "charging_df = growth_data.copy()\n",
    "charging_df['Charging Stations'] = growth_data['EV Count'] * np.random.uniform(0.08, 0.12, size=len(growth_data))\n",
    "fig5 = px.scatter(charging_df, x='Charging Stations', y='EV Count', size='EV Count', color='Model Year', title=\"Simulated Charging Infra vs EV Count\")\n",
    "fig5.show()"
   ]
  },
  {
   "cell_type": "code",
   "execution_count": null,
   "id": "1606c993-630b-4739-8d24-f68882e36dd8",
   "metadata": {},
   "outputs": [],
   "source": [
    "# Chart 6 - Policy Incentive Impact\n",
    "boost = 20  # Change this slider value as needed\n",
    "policy_df = growth_data.copy()\n",
    "policy_df['Boosted'] = policy_df['EV Count'] * (1 + boost / 100)\n",
    "fig6 = px.bar(policy_df, x='Model Year', y=['EV Count', 'Boosted'], barmode='group')\n",
    "fig6.show()"
   ]
  },
  {
   "cell_type": "code",
   "execution_count": null,
   "id": "6a88a7b3-a495-4bab-b8c9-ab58087a15ce",
   "metadata": {},
   "outputs": [],
   "source": [
    "# Chart 8 - Grouped Bar by County and Brand\n",
    "print(\"📌 7. EV Count by Make and County\")\n",
    "grouped = df.groupby(['County', 'Make']).size().reset_index(name='Count')\n",
    "grouped = grouped[grouped['Make'].isin(top_brands)]\n",
    "fig8 = px.bar(grouped, x='County', y='Count', color='Make', barmode='group')\n",
    "fig8.show()"
   ]
  },
  {
   "cell_type": "code",
   "execution_count": null,
   "id": "c6b2b165-f4e4-4086-b3f9-93893922fc94",
   "metadata": {},
   "outputs": [],
   "source": [
    "# Chart 9 - Boxplot\n",
    "print(\"📦 8. Boxplot: Electric Range by Brand\")\n",
    "fig9 = px.box(df[df['Make'].isin(top_brands)], x='Make', y='Electric Range')\n",
    "fig9.show()"
   ]
  },
  {
   "cell_type": "code",
   "execution_count": null,
   "id": "f968b14c-bfaf-4ad8-882c-94696ee6f143",
   "metadata": {},
   "outputs": [],
   "source": [
    "# Chart 10 - Histogram of Range\n",
    "print(\"📊 9. Histogram: Electric Range Distribution\")\n",
    "fig10 = px.histogram(df, x='Electric Range', nbins=40)\n",
    "fig10.show()"
   ]
  }
 ],
 "metadata": {
  "kernelspec": {
   "display_name": "Python 3 (ipykernel)",
   "language": "python",
   "name": "python3"
  },
  "language_info": {
   "codemirror_mode": {
    "name": "ipython",
    "version": 3
   },
   "file_extension": ".py",
   "mimetype": "text/x-python",
   "name": "python",
   "nbconvert_exporter": "python",
   "pygments_lexer": "ipython3",
   "version": "3.13.3"
  }
 },
 "nbformat": 4,
 "nbformat_minor": 5
}
